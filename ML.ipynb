{
 "cells": [
  {
   "cell_type": "code",
   "execution_count": 100,
   "metadata": {},
   "outputs": [],
   "source": [
    "import pandas as pd\n",
    "import numpy as np"
   ]
  },
  {
   "cell_type": "code",
   "execution_count": 101,
   "metadata": {},
   "outputs": [],
   "source": [
    "#import the data\n",
    "\n",
    "df = pd.read_csv('data.csv')"
   ]
  },
  {
   "cell_type": "code",
   "execution_count": 102,
   "metadata": {},
   "outputs": [],
   "source": [
    "#Select features to train the model with\n",
    "df2 = df[['blueWins','blueWardsPlaced','blueWardsDestroyed','blueFirstBlood','blueKills', 'blueAssists', 'blueEliteMonsters', 'blueDragons', 'blueHeralds', 'blueTowersDestroyed', 'blueTotalGold', 'blueTotalExperience', 'blueTotalMinionsKilled', 'blueTotalJungleMinionsKilled', 'redWardsPlaced','redWardsDestroyed','redFirstBlood','redKills', 'redAssists', 'redEliteMonsters', 'redDragons', 'redHeralds', 'redTowersDestroyed', 'redTotalGold', 'redTotalExperience', 'redTotalMinionsKilled', 'redTotalJungleMinionsKilled']]"
   ]
  },
  {
   "cell_type": "code",
   "execution_count": 103,
   "metadata": {},
   "outputs": [],
   "source": [
    "from sklearn import linear_model\n",
    "from sklearn.model_selection import train_test_split"
   ]
  },
  {
   "cell_type": "code",
   "execution_count": 104,
   "metadata": {},
   "outputs": [],
   "source": [
    "# y will be the labels\n",
    "y = df2['blueWins'].values"
   ]
  },
  {
   "cell_type": "code",
   "execution_count": 105,
   "metadata": {},
   "outputs": [],
   "source": [
    "#Convert it to a numpy array\n",
    "y = np.array(y)"
   ]
  },
  {
   "cell_type": "code",
   "execution_count": 106,
   "metadata": {},
   "outputs": [],
   "source": [
    "#drop the labels from the original dataframe\n",
    "df2 = df2.drop(columns=['blueWins'])"
   ]
  },
  {
   "cell_type": "code",
   "execution_count": 107,
   "metadata": {},
   "outputs": [
    {
     "data": {
      "text/plain": [
       "array([[   28,     2,     1, ..., 17047,   197,    55],\n",
       "       [   12,     1,     0, ..., 17438,   240,    52],\n",
       "       [   15,     0,     0, ..., 17254,   203,    28],\n",
       "       ...,\n",
       "       [   23,     1,     0, ..., 19909,   261,    60],\n",
       "       [   14,     4,     1, ..., 18314,   247,    40],\n",
       "       [   18,     0,     1, ..., 17379,   201,    46]], dtype=int64)"
      ]
     },
     "execution_count": 107,
     "metadata": {},
     "output_type": "execute_result"
    }
   ],
   "source": [
    "#let's take a look at the dataframe\n",
    "df2.values"
   ]
  },
  {
   "cell_type": "code",
   "execution_count": 108,
   "metadata": {},
   "outputs": [],
   "source": [
    "# Let's convert our features to numpy array\n",
    "X = np.array(df2.values)"
   ]
  },
  {
   "cell_type": "code",
   "execution_count": 109,
   "metadata": {},
   "outputs": [
    {
     "name": "stdout",
     "output_type": "stream",
     "text": [
      "9879\n",
      "9879\n"
     ]
    }
   ],
   "source": [
    "# Take a look at their length. They should be equal\n",
    "print(len(X))\n",
    "print(len(y))"
   ]
  },
  {
   "cell_type": "code",
   "execution_count": 110,
   "metadata": {},
   "outputs": [
    {
     "name": "stdout",
     "output_type": "stream",
     "text": [
      "8397 1482 8397 1482\n"
     ]
    }
   ],
   "source": [
    "# Let's split them into two groups so that we can test our model later.\n",
    "X_train, X_test, y_train, y_test = train_test_split(X,y ,test_size=.15, shuffle=True)\n",
    "print(len(X_train), len(X_test), len(y_train), len(y_test))"
   ]
  },
  {
   "cell_type": "code",
   "execution_count": 111,
   "metadata": {},
   "outputs": [],
   "source": [
    "from sklearn.preprocessing import scale"
   ]
  },
  {
   "cell_type": "code",
   "execution_count": 112,
   "metadata": {},
   "outputs": [],
   "source": [
    "# Normalize the data to have more intuitive weights\n",
    "X_train = scale(X_train)\n",
    "X_test = scale(X_test)\n"
   ]
  },
  {
   "cell_type": "code",
   "execution_count": 113,
   "metadata": {},
   "outputs": [],
   "source": [
    "# Create an instance of LogisticRegression\n",
    "# Logistic Regression allows us to classify based on categories such as 'Win' and 'Loss'.\n",
    "# We don't want to use Linear Regression because it does not make a certain classification. \n",
    "# It gives a float number such as 0.685\n",
    "\n",
    "regr = linear_model.LogisticRegression()"
   ]
  },
  {
   "cell_type": "code",
   "execution_count": 114,
   "metadata": {},
   "outputs": [
    {
     "data": {
      "text/plain": [
       "LogisticRegression()"
      ]
     },
     "execution_count": 114,
     "metadata": {},
     "output_type": "execute_result"
    }
   ],
   "source": [
    "#Let's fit the data in our model\n",
    "regr.fit(X_train, y_train)"
   ]
  },
  {
   "cell_type": "code",
   "execution_count": 115,
   "metadata": {},
   "outputs": [
    {
     "data": {
      "text/plain": [
       "array([[-0.01773514,  0.01669825,  0.01604078, -0.0562645 , -0.05276828,\n",
       "         0.07513423,  0.13238986, -0.04235357, -0.03420086,  0.75255253,\n",
       "         0.26936191, -0.07175862,  0.03019499, -0.04342891,  0.01236179,\n",
       "        -0.01604078,  0.08101692,  0.0737001 , -0.06295813, -0.08070203,\n",
       "         0.00118814,  0.0755252 , -0.76691127, -0.33410919,  0.131353  ,\n",
       "         0.07694679]])"
      ]
     },
     "execution_count": 115,
     "metadata": {},
     "output_type": "execute_result"
    }
   ],
   "source": [
    "# Take a look at the coefficients.\n",
    "# Numbers indicate how much each feature affects the actual results.\n",
    "regr.coef_"
   ]
  },
  {
   "cell_type": "code",
   "execution_count": 116,
   "metadata": {},
   "outputs": [
    {
     "data": {
      "text/plain": [
       "array([0.00347128])"
      ]
     },
     "execution_count": 116,
     "metadata": {},
     "output_type": "execute_result"
    }
   ],
   "source": [
    "# Intercept is the bias. It gets added to the coefficients multiplied by their weights\n",
    "regr.intercept_"
   ]
  },
  {
   "cell_type": "code",
   "execution_count": 117,
   "metadata": {},
   "outputs": [],
   "source": [
    "#Let's make a prediction using the testing data\n",
    "pred = regr.predict(X_test)"
   ]
  },
  {
   "cell_type": "code",
   "execution_count": 118,
   "metadata": {},
   "outputs": [],
   "source": [
    "# Check the accuracy of our model\n",
    "from sklearn.metrics import accuracy_score\n",
    "acc = accuracy_score(pred,y_test)"
   ]
  },
  {
   "cell_type": "code",
   "execution_count": 124,
   "metadata": {},
   "outputs": [
    {
     "data": {
      "text/plain": [
       "0.733468286099865"
      ]
     },
     "execution_count": 124,
     "metadata": {},
     "output_type": "execute_result"
    }
   ],
   "source": [
    "# Our model is 73 percent accurate! Which is not bad but not great either.\n",
    "# Data for accuracy might be a little different when you run it due to randomized data.\n",
    "acc"
   ]
  },
  {
   "cell_type": "code",
   "execution_count": 120,
   "metadata": {},
   "outputs": [],
   "source": [
    "# Let's take a look at how much each feature affects the winning team.\n",
    "ratios = list(zip(regr.coef_[0], df2.columns))"
   ]
  },
  {
   "cell_type": "code",
   "execution_count": 121,
   "metadata": {},
   "outputs": [
    {
     "data": {
      "text/plain": [
       "[(-0.01773513767145281, 'blueWardsPlaced'),\n",
       " (0.01669825486237613, 'blueWardsDestroyed'),\n",
       " (0.016040782829288915, 'blueFirstBlood'),\n",
       " (-0.05626449783631365, 'blueKills'),\n",
       " (-0.05276827997556363, 'blueAssists'),\n",
       " (0.0751342344682104, 'blueEliteMonsters'),\n",
       " (0.13238985653135135, 'blueDragons'),\n",
       " (-0.042353574515031404, 'blueHeralds'),\n",
       " (-0.034200857895783594, 'blueTowersDestroyed'),\n",
       " (0.7525525330262591, 'blueTotalGold'),\n",
       " (0.269361913262368, 'blueTotalExperience'),\n",
       " (-0.07175861916199625, 'blueTotalMinionsKilled'),\n",
       " (0.03019499218982294, 'blueTotalJungleMinionsKilled'),\n",
       " (-0.04342891432059616, 'redWardsPlaced'),\n",
       " (0.012361791825472564, 'redWardsDestroyed'),\n",
       " (-0.016040782829288433, 'redFirstBlood'),\n",
       " (0.08101692036922928, 'redKills'),\n",
       " (0.07370010261328272, 'redAssists'),\n",
       " (-0.06295813157359534, 'redEliteMonsters'),\n",
       " (-0.08070203429859568, 'redDragons'),\n",
       " (0.0011881361901777544, 'redHeralds'),\n",
       " (0.07552519790459661, 'redTowersDestroyed'),\n",
       " (-0.766911267187291, 'redTotalGold'),\n",
       " (-0.33410919467955996, 'redTotalExperience'),\n",
       " (0.13135300197952282, 'redTotalMinionsKilled'),\n",
       " (0.07694679263653796, 'redTotalJungleMinionsKilled')]"
      ]
     },
     "execution_count": 121,
     "metadata": {},
     "output_type": "execute_result"
    }
   ],
   "source": [
    "# The numbers indicate the weights for the corresponding features.\n",
    "ratios"
   ]
  },
  {
   "cell_type": "code",
   "execution_count": 122,
   "metadata": {},
   "outputs": [
    {
     "data": {
      "text/plain": [
       "[(0.08101692036922928, 'redKills'),\n",
       " (0.13135300197952282, 'redTotalMinionsKilled'),\n",
       " (0.13238985653135135, 'blueDragons'),\n",
       " (0.269361913262368, 'blueTotalExperience'),\n",
       " (0.7525525330262591, 'blueTotalGold')]"
      ]
     },
     "execution_count": 122,
     "metadata": {},
     "output_type": "execute_result"
    }
   ],
   "source": [
    "# Let's sort the data and grab the top 5\n",
    "sorted(ratios)[-5:]"
   ]
  },
  {
   "cell_type": "code",
   "execution_count": 123,
   "metadata": {},
   "outputs": [],
   "source": [
    "# The highest number is next to 'blueTotalGold' which indicates that earning gold is the most effective factor.\n",
    "# Second is 'blueTotalExperience' which indicates that earning experience is the second most effective factor.\n",
    "\n",
    "# In conclusion, we can assume that the team with the higher amount of golds and experience in the first \n",
    "# 10 minutes has considerably higher chance of winning."
   ]
  },
  {
   "cell_type": "code",
   "execution_count": null,
   "metadata": {},
   "outputs": [],
   "source": []
  }
 ],
 "metadata": {
  "kernelspec": {
   "display_name": "Python 3",
   "language": "python",
   "name": "python3"
  },
  "language_info": {
   "codemirror_mode": {
    "name": "ipython",
    "version": 3
   },
   "file_extension": ".py",
   "mimetype": "text/x-python",
   "name": "python",
   "nbconvert_exporter": "python",
   "pygments_lexer": "ipython3",
   "version": "3.8.2"
  }
 },
 "nbformat": 4,
 "nbformat_minor": 4
}
